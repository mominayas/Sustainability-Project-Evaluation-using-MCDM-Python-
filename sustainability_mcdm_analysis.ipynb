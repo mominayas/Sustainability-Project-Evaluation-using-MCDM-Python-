{
 "cells": [
  {
   "cell_type": "markdown",
   "id": "34eda21f",
   "metadata": {},
   "source": [
    "# Sustainability Project Evaluation using MCDM (Multi-Criteria Decision Making)"
   ]
  },
  {
   "cell_type": "markdown",
   "id": "a8566a4d",
   "metadata": {},
   "source": [
    "## Objective\n",
    "Evaluate and rank sustainability projects based on multiple criteria using Python."
   ]
  },
  {
   "cell_type": "code",
   "execution_count": null,
   "id": "469ccfd4",
   "metadata": {},
   "outputs": [],
   "source": [
    "# Import Libraries\n",
    "import pandas as pd\n",
    "from sklearn.preprocessing import MinMaxScaler\n",
    "import matplotlib.pyplot as plt\n",
    "\n",
    "# Load Data\n",
    "df = pd.read_csv('sustainability_projects.csv')\n",
    "df"
   ]
  },
  {
   "cell_type": "markdown",
   "id": "2570deae",
   "metadata": {},
   "source": [
    "## Step 1: Normalize the Data (for MCDM)"
   ]
  },
  {
   "cell_type": "code",
   "execution_count": null,
   "id": "54478790",
   "metadata": {},
   "outputs": [],
   "source": [
    "# Normalize the data\n",
    "scaler = MinMaxScaler()\n",
    "criteria = ['Cost', 'Environmental Impact', 'Feasibility', 'Strategic Fit']\n",
    "\n",
    "# Adjust cost to be inverse since lower cost is better\n",
    "df['Cost'] = df['Cost'].max() - df['Cost']\n",
    "\n",
    "df[criteria] = scaler.fit_transform(df[criteria])\n",
    "\n",
    "df"
   ]
  },
  {
   "cell_type": "markdown",
   "id": "8bd85440",
   "metadata": {},
   "source": [
    "## Step 2: Calculate Final Score using Equal Weights"
   ]
  },
  {
   "cell_type": "code",
   "execution_count": null,
   "id": "3520d41f",
   "metadata": {},
   "outputs": [],
   "source": [
    "# Assuming equal weights for simplicity\n",
    "df['Score'] = df[criteria].mean(axis=1)\n",
    "\n",
    "# Ranking Projects\n",
    "df['Rank'] = df['Score'].rank(ascending=False)\n",
    "df.sort_values('Rank')"
   ]
  },
  {
   "cell_type": "markdown",
   "id": "28b837db",
   "metadata": {},
   "source": [
    "## Step 3: Visualization"
   ]
  },
  {
   "cell_type": "code",
   "execution_count": null,
   "id": "2fb7ca19",
   "metadata": {},
   "outputs": [],
   "source": [
    "plt.figure(figsize=(10,6))\n",
    "plt.barh(df['Project'], df['Score'], color='green')\n",
    "plt.xlabel('Final Score')\n",
    "plt.title('Sustainability Projects Evaluation')\n",
    "plt.gca().invert_yaxis()\n",
    "plt.show()"
   ]
  }
 ],
 "metadata": {},
 "nbformat": 4,
 "nbformat_minor": 5
}
